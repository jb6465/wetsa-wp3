{
 "cells": [
  {
   "cell_type": "markdown",
   "id": "ec0425db-3797-42cc-ba2a-d911a077cdf1",
   "metadata": {},
   "source": [
    "# Extract BARRA/ERA5"
   ]
  },
  {
   "cell_type": "code",
   "execution_count": 2,
   "id": "92d47106-53a1-49a3-8be5-fc5bdee0fae7",
   "metadata": {
    "execution": {
     "iopub.execute_input": "2025-04-22T00:55:36.213306Z",
     "iopub.status.busy": "2025-04-22T00:55:36.212576Z",
     "iopub.status.idle": "2025-04-22T00:55:36.655748Z",
     "shell.execute_reply": "2025-04-22T00:55:36.654645Z",
     "shell.execute_reply.started": "2025-04-22T00:55:36.213249Z"
    }
   },
   "outputs": [],
   "source": [
    "import sys\n",
    "import os\n",
    "import glob\n",
    "import xarray as xr\n",
    "sys.path.append('/g/data/mn51/users/jb6465/code/wetsa-wp3')\n",
    "from utils import *\n",
    "\n",
    "import dask\n",
    "import tempfile\n",
    "from dask.diagnostics import ProgressBar\n",
    "from dask.distributed import Client, LocalCluster\n",
    "import warnings\n",
    "import logging\n",
    "warnings.filterwarnings('ignore') \n",
    "logging.getLogger(\"distributed.worker.memory\").setLevel(logging.ERROR)\n",
    "logging.getLogger('flox').setLevel(logging.WARNING)"
   ]
  },
  {
   "cell_type": "markdown",
   "id": "1d884733-ac19-4ab0-b967-99a367ff568b",
   "metadata": {},
   "source": [
    "### Extract BARRA (faster without dask)"
   ]
  },
  {
   "cell_type": "code",
   "execution_count": 2,
   "id": "6d6b9b02-4f25-4ae9-bb5b-ff5b40c37590",
   "metadata": {
    "execution": {
     "iopub.execute_input": "2025-04-22T00:33:49.847572Z",
     "iopub.status.busy": "2025-04-22T00:33:49.847126Z",
     "iopub.status.idle": "2025-04-22T00:33:53.077492Z",
     "shell.execute_reply": "2025-04-22T00:33:53.076032Z",
     "shell.execute_reply.started": "2025-04-22T00:33:49.847525Z"
    }
   },
   "outputs": [
    {
     "name": "stdout",
     "output_type": "stream",
     "text": [
      "tas\n",
      "uas\n",
      "vas\n",
      "sfcWind\n",
      "rsds\n",
      "pr\n"
     ]
    }
   ],
   "source": [
    "extracted_data_save_dir = '/g/data/mn51/users/jb6465/data/wetsa-wp3'\n",
    "time_step = '1hr' #10min 1hr 3hr day fx mon\n",
    "nation_domain = 'indonesia'\n",
    "\n",
    "for target_var in ['tas', 'uas', 'vas', 'sfcWind', 'rsds', 'pr']:\n",
    "    print(target_var)\n",
    "    for year in list(range(1979,2024)):\n",
    "      barra_extract(target_var, extracted_data_save_dir, time_step, nation_domain, year)"
   ]
  },
  {
   "cell_type": "markdown",
   "id": "eba2a9c0-f6ec-4a42-8fac-0659786ff023",
   "metadata": {},
   "source": [
    " "
   ]
  },
  {
   "cell_type": "markdown",
   "id": "bbeb7f1c-04d3-4e7d-b682-839cff3cf99f",
   "metadata": {},
   "source": [
    "### Extract ERA5 (faster with dask)"
   ]
  },
  {
   "cell_type": "code",
   "execution_count": 10,
   "id": "cbea7d45-867d-4bf9-8b1e-070aeffc27e1",
   "metadata": {
    "execution": {
     "iopub.execute_input": "2025-04-22T04:20:12.615623Z",
     "iopub.status.busy": "2025-04-22T04:20:12.615012Z",
     "iopub.status.idle": "2025-04-22T04:20:15.097573Z",
     "shell.execute_reply": "2025-04-22T04:20:15.095940Z",
     "shell.execute_reply.started": "2025-04-22T04:20:12.615565Z"
    }
   },
   "outputs": [],
   "source": [
    "dask.config.set({'array.chunk-size': \"256 MiB\",'array.slicing.split_large_chunks': True, 'distributed.comm.timeouts.connect': '120s', 'distributed.comm.timeouts.tcp': '120s', 'distributed.comm.retry.count': 10, 'distributed.scheduler.allowed-failures': 20, \"distributed.scheduler.worker-saturation\": 1.1})\n",
    "client = Client(n_workers=12, threads_per_worker=1, local_directory = tempfile.mkdtemp(), memory_limit = \"63000mb\")"
   ]
  },
  {
   "cell_type": "code",
   "execution_count": 11,
   "id": "0de30127-d0a2-49a8-8e03-92985681f812",
   "metadata": {
    "execution": {
     "iopub.execute_input": "2025-04-22T04:20:17.360158Z",
     "iopub.status.busy": "2025-04-22T04:20:17.359575Z",
     "iopub.status.idle": "2025-04-22T04:20:17.744608Z",
     "shell.execute_reply": "2025-04-22T04:20:17.742754Z",
     "shell.execute_reply.started": "2025-04-22T04:20:17.360104Z"
    }
   },
   "outputs": [
    {
     "name": "stdout",
     "output_type": "stream",
     "text": [
      "10u\n",
      "10v\n",
      "ssrd\n",
      "tp\n",
      "2t\n"
     ]
    }
   ],
   "source": [
    "extracted_data_save_dir = '/g/data/mn51/users/jb6465/data/wetsa-wp3'\n",
    "nation_domain = 'indonesia'\n",
    "\n",
    "for target_var in ['10u', '10v', 'ssrd', 'tp', '2t']:\n",
    "    print(target_var)\n",
    "    for year in list(range(1979,2024)):\n",
    "      era5_extract(target_var, extracted_data_save_dir, nation_domain, year)  "
   ]
  },
  {
   "cell_type": "code",
   "execution_count": 13,
   "id": "a6b1ddf8-cb9c-4bd7-b648-8e1b440c1dff",
   "metadata": {
    "execution": {
     "iopub.execute_input": "2025-04-22T04:20:40.776767Z",
     "iopub.status.busy": "2025-04-22T04:20:40.776161Z",
     "iopub.status.idle": "2025-04-22T04:20:40.783225Z",
     "shell.execute_reply": "2025-04-22T04:20:40.781704Z",
     "shell.execute_reply.started": "2025-04-22T04:20:40.776711Z"
    }
   },
   "outputs": [],
   "source": [
    "client.close()"
   ]
  }
 ],
 "metadata": {
  "kernelspec": {
   "display_name": "Python [conda env:analysis3]",
   "language": "python",
   "name": "conda-env-analysis3-py"
  },
  "language_info": {
   "codemirror_mode": {
    "name": "ipython",
    "version": 3
   },
   "file_extension": ".py",
   "mimetype": "text/x-python",
   "name": "python",
   "nbconvert_exporter": "python",
   "pygments_lexer": "ipython3",
   "version": "3.10.14"
  }
 },
 "nbformat": 4,
 "nbformat_minor": 5
}

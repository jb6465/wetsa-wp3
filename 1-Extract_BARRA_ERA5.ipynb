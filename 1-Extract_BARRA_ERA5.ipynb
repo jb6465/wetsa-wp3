{
 "cells": [
  {
   "cell_type": "markdown",
   "id": "ec0425db-3797-42cc-ba2a-d911a077cdf1",
   "metadata": {},
   "source": [
    "# Extract BARRA/ERA5"
   ]
  },
  {
   "cell_type": "code",
   "execution_count": 1,
   "id": "92d47106-53a1-49a3-8be5-fc5bdee0fae7",
   "metadata": {
    "execution": {
     "iopub.execute_input": "2025-05-09T00:18:38.085233Z",
     "iopub.status.busy": "2025-05-09T00:18:38.085027Z",
     "iopub.status.idle": "2025-05-09T00:18:39.927507Z",
     "shell.execute_reply": "2025-05-09T00:18:39.926382Z",
     "shell.execute_reply.started": "2025-05-09T00:18:38.085211Z"
    }
   },
   "outputs": [],
   "source": [
    "import sys\n",
    "import os\n",
    "import glob\n",
    "import xarray as xr\n",
    "sys.path.append('/g/data/qz03/wp3/code/git-repo')\n",
    "from utils import *\n",
    "\n",
    "import dask\n",
    "import tempfile\n",
    "from dask.diagnostics import ProgressBar\n",
    "from dask.distributed import Client, LocalCluster\n",
    "import warnings\n",
    "import logging\n",
    "warnings.filterwarnings('ignore') \n",
    "logging.getLogger(\"distributed.worker.memory\").setLevel(logging.ERROR)\n",
    "logging.getLogger('flox').setLevel(logging.WARNING)"
   ]
  },
  {
   "cell_type": "markdown",
   "id": "1d884733-ac19-4ab0-b967-99a367ff568b",
   "metadata": {},
   "source": [
    "### Extract BARRA (faster without dask)"
   ]
  },
  {
   "cell_type": "code",
   "execution_count": 2,
   "id": "6d6b9b02-4f25-4ae9-bb5b-ff5b40c37590",
   "metadata": {
    "execution": {
     "iopub.execute_input": "2025-05-09T00:18:39.931499Z",
     "iopub.status.busy": "2025-05-09T00:18:39.931292Z",
     "iopub.status.idle": "2025-05-09T01:01:58.441335Z",
     "shell.execute_reply": "2025-05-09T01:01:58.439874Z",
     "shell.execute_reply.started": "2025-05-09T00:18:39.931473Z"
    },
    "scrolled": true
   },
   "outputs": [
    {
     "name": "stdout",
     "output_type": "stream",
     "text": [
      "tas\n",
      "uas\n",
      "vas\n",
      "sfcWind\n",
      "rsds\n",
      "pr\n"
     ]
    }
   ],
   "source": [
    "extracted_data_save_dir = '/g/data/qz03/wp3/data/'\n",
    "time_step = 'day' #10min 1hr 3hr day fx mon\n",
    "nation_domain = 'indonesia'\n",
    "\n",
    "for target_var in ['tas', 'uas', 'vas', 'sfcWind', 'rsds', 'pr']:\n",
    "    print(target_var)\n",
    "    for year in list(range(1979,2024)):\n",
    "      barra_extract(target_var, extracted_data_save_dir, time_step, nation_domain, year)"
   ]
  },
  {
   "cell_type": "code",
   "execution_count": null,
   "id": "aa3c3a11-cbc3-4a57-b9a4-eede4a6f052d",
   "metadata": {},
   "outputs": [],
   "source": []
  },
  {
   "cell_type": "markdown",
   "id": "eba2a9c0-f6ec-4a42-8fac-0659786ff023",
   "metadata": {},
   "source": [
    " "
   ]
  },
  {
   "cell_type": "markdown",
   "id": "bbeb7f1c-04d3-4e7d-b682-839cff3cf99f",
   "metadata": {},
   "source": [
    "### Extract ERA5 (faster with dask)"
   ]
  },
  {
   "cell_type": "code",
   "execution_count": 2,
   "id": "cbea7d45-867d-4bf9-8b1e-070aeffc27e1",
   "metadata": {
    "execution": {
     "iopub.execute_input": "2025-05-08T07:37:01.589162Z",
     "iopub.status.busy": "2025-05-08T07:37:01.588589Z",
     "iopub.status.idle": "2025-05-08T07:37:05.224736Z",
     "shell.execute_reply": "2025-05-08T07:37:05.223357Z",
     "shell.execute_reply.started": "2025-05-08T07:37:01.589109Z"
    },
    "scrolled": true
   },
   "outputs": [],
   "source": [
    "dask.config.set({'array.chunk-size': \"256 MiB\",'array.slicing.split_large_chunks': True, 'distributed.comm.timeouts.connect': '120s', 'distributed.comm.timeouts.tcp': '120s', 'distributed.comm.retry.count': 10, 'distributed.scheduler.allowed-failures': 20, \"distributed.scheduler.worker-saturation\": 1.1})\n",
    "client = Client(n_workers=12, threads_per_worker=1, local_directory = tempfile.mkdtemp(), memory_limit = \"63000mb\")"
   ]
  },
  {
   "cell_type": "code",
   "execution_count": 3,
   "id": "0de30127-d0a2-49a8-8e03-92985681f812",
   "metadata": {
    "execution": {
     "iopub.execute_input": "2025-05-08T07:37:08.178588Z",
     "iopub.status.busy": "2025-05-08T07:37:08.177553Z",
     "iopub.status.idle": "2025-05-08T07:39:01.781885Z",
     "shell.execute_reply": "2025-05-08T07:39:01.780370Z",
     "shell.execute_reply.started": "2025-05-08T07:37:08.178510Z"
    }
   },
   "outputs": [
    {
     "name": "stdout",
     "output_type": "stream",
     "text": [
      "10u\n",
      "10v\n",
      "ssrd\n",
      "tp\n",
      "2t\n"
     ]
    }
   ],
   "source": [
    "extracted_data_save_dir = '/g/data/qz03/wp3/data'\n",
    "nation_domain = 'indonesia'\n",
    "\n",
    "for target_var in ['10u', '10v', 'ssrd', 'tp', '2t']:\n",
    "    print(target_var)\n",
    "    for year in list(range(1979,2024)):\n",
    "      era5_extract(target_var, extracted_data_save_dir, nation_domain, year)  "
   ]
  },
  {
   "cell_type": "code",
   "execution_count": null,
   "id": "a6b1ddf8-cb9c-4bd7-b648-8e1b440c1dff",
   "metadata": {
    "execution": {
     "iopub.status.busy": "2025-05-08T03:22:22.825816Z",
     "iopub.status.idle": "2025-05-08T03:22:22.826091Z",
     "shell.execute_reply": "2025-05-08T03:22:22.825965Z",
     "shell.execute_reply.started": "2025-05-08T03:22:22.825947Z"
    }
   },
   "outputs": [],
   "source": [
    "client.close()"
   ]
  },
  {
   "cell_type": "code",
   "execution_count": null,
   "id": "719808cf-0956-4201-8d49-7525dd4b8668",
   "metadata": {},
   "outputs": [],
   "source": []
  }
 ],
 "metadata": {
  "kernelspec": {
   "display_name": "Python [conda env:analysis3]",
   "language": "python",
   "name": "conda-env-analysis3-py"
  },
  "language_info": {
   "codemirror_mode": {
    "name": "ipython",
    "version": 3
   },
   "file_extension": ".py",
   "mimetype": "text/x-python",
   "name": "python",
   "nbconvert_exporter": "python",
   "pygments_lexer": "ipython3",
   "version": "3.10.14"
  }
 },
 "nbformat": 4,
 "nbformat_minor": 5
}
